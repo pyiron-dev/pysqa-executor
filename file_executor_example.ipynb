{
 "cells": [
  {
   "cell_type": "markdown",
   "id": "2de77012",
   "metadata": {},
   "source": [
    "Cache alternative:\n",
    "\n",
    "* https://docs.python.org/3.4/library/functools.html#functools.lru_cache\n",
    "* https://joblib.readthedocs.io/en/stable/generated/joblib.Memory.html"
   ]
  },
  {
   "cell_type": "code",
   "execution_count": 1,
   "id": "2709652d",
   "metadata": {},
   "outputs": [],
   "source": [
    "import os"
   ]
  },
  {
   "cell_type": "code",
   "execution_count": 2,
   "id": "f57a0dd2",
   "metadata": {},
   "outputs": [],
   "source": [
    "import time"
   ]
  },
  {
   "cell_type": "code",
   "execution_count": 3,
   "id": "d9ad8555",
   "metadata": {},
   "outputs": [],
   "source": [
    "from file_executor import FileExecutor"
   ]
  },
  {
   "cell_type": "code",
   "execution_count": 4,
   "id": "27f4ebad",
   "metadata": {},
   "outputs": [],
   "source": [
    "def test_funct(a, b):\n",
    "    time.sleep(5)\n",
    "    return a+b"
   ]
  },
  {
   "cell_type": "code",
   "execution_count": 5,
   "id": "c2030361",
   "metadata": {},
   "outputs": [],
   "source": [
    "exe = FileExecutor()"
   ]
  },
  {
   "cell_type": "code",
   "execution_count": 6,
   "id": "641cc84b",
   "metadata": {},
   "outputs": [],
   "source": [
    "fs1 = exe.submit(test_funct, 1, 2)"
   ]
  },
  {
   "cell_type": "code",
   "execution_count": 7,
   "id": "a268bdee",
   "metadata": {},
   "outputs": [
    {
     "data": {
      "text/plain": [
       "True"
      ]
     },
     "execution_count": 7,
     "metadata": {},
     "output_type": "execute_result"
    }
   ],
   "source": [
    "fs1.done()"
   ]
  },
  {
   "cell_type": "code",
   "execution_count": 8,
   "id": "7a2ef34f",
   "metadata": {},
   "outputs": [
    {
     "data": {
      "text/plain": [
       "3"
      ]
     },
     "execution_count": 8,
     "metadata": {},
     "output_type": "execute_result"
    }
   ],
   "source": [
    "fs1.result()"
   ]
  },
  {
   "cell_type": "code",
   "execution_count": 9,
   "id": "db0c6800",
   "metadata": {},
   "outputs": [
    {
     "data": {
      "text/plain": [
       "True"
      ]
     },
     "execution_count": 9,
     "metadata": {},
     "output_type": "execute_result"
    }
   ],
   "source": [
    "fs1.done()"
   ]
  },
  {
   "cell_type": "code",
   "execution_count": 10,
   "id": "828d430f",
   "metadata": {},
   "outputs": [],
   "source": [
    "fs2 = exe.submit(test_funct, 1, 2)"
   ]
  },
  {
   "cell_type": "code",
   "execution_count": 11,
   "id": "6c49c4b1",
   "metadata": {},
   "outputs": [
    {
     "data": {
      "text/plain": [
       "True"
      ]
     },
     "execution_count": 11,
     "metadata": {},
     "output_type": "execute_result"
    }
   ],
   "source": [
    "fs2 == fs1 "
   ]
  },
  {
   "cell_type": "code",
   "execution_count": 12,
   "id": "d6edffbc",
   "metadata": {},
   "outputs": [
    {
     "data": {
      "text/plain": [
       "True"
      ]
     },
     "execution_count": 12,
     "metadata": {},
     "output_type": "execute_result"
    }
   ],
   "source": [
    "fs2.done()"
   ]
  },
  {
   "cell_type": "code",
   "execution_count": 13,
   "id": "2d9c85cd",
   "metadata": {},
   "outputs": [
    {
     "data": {
      "text/plain": [
       "{'test_funct07fd87d649850117ab8730e233697fcb': <Future at 0x103786290 state=finished returned int>}"
      ]
     },
     "execution_count": 13,
     "metadata": {},
     "output_type": "execute_result"
    }
   ],
   "source": [
    "exe._memory_dict"
   ]
  },
  {
   "cell_type": "code",
   "execution_count": 14,
   "id": "2715e627",
   "metadata": {},
   "outputs": [
    {
     "name": "stdout",
     "output_type": "stream",
     "text": [
      "test_funct07fd87d649850117ab8730e233697fcb.out.pl\n",
      "test_funct07fd87d649850117ab8730e233697fcb.in.pl\n"
     ]
    }
   ],
   "source": [
    "for f in os.listdir():\n",
    "    if f.endswith(\".pl\"):\n",
    "        print(f)\n",
    "        os.remove(f)"
   ]
  },
  {
   "cell_type": "code",
   "execution_count": null,
   "id": "361e7586",
   "metadata": {},
   "outputs": [],
   "source": []
  },
  {
   "cell_type": "code",
   "execution_count": null,
   "id": "66944e9d",
   "metadata": {},
   "outputs": [],
   "source": []
  }
 ],
 "metadata": {
  "kernelspec": {
   "display_name": "Python 3 (ipykernel)",
   "language": "python",
   "name": "python3"
  },
  "language_info": {
   "codemirror_mode": {
    "name": "ipython",
    "version": 3
   },
   "file_extension": ".py",
   "mimetype": "text/x-python",
   "name": "python",
   "nbconvert_exporter": "python",
   "pygments_lexer": "ipython3",
   "version": "3.10.12"
  }
 },
 "nbformat": 4,
 "nbformat_minor": 5
}
